{
  "nbformat": 4,
  "nbformat_minor": 0,
  "metadata": {
    "colab": {
      "provenance": []
    },
    "kernelspec": {
      "name": "python3",
      "display_name": "Python 3"
    },
    "language_info": {
      "name": "python"
    }
  },
  "cells": [
    {
      "cell_type": "markdown",
      "source": [
        "1. What is Python, and why is it popular?\n",
        "   - Python is a hight level, interpreted programming language known for its simplicity and readability. It is popular because it's simple to learn, has a clean syntax, and can be used for many things like web developement, data analysis, and automation. It also has lot of ready to use libraries and a big community that helps solve problems and improve the language.\n",
        "\n",
        "2. What is an interpreter in Python?\n",
        "   - An interpreter in Python is a program that reads and runs the code line by line. It checks and runs each line one at a time, which makes it easier to find and fix errors quickly.\n",
        "\n",
        "3. What are pre-defined keywords in Python?\n",
        "   - Pre-defined keywords in Python are special words that have a fixed meaning and purpose in the language.They are used to write the rules and structure of Python programs.\n",
        "   -Example: if, else, while, for, return, True, False, etc. Python has a set number of these keywords, and they help control the flow and logic of code.\n",
        "\n",
        "4. Can keywords be used as variable names?\n",
        "  - No, keywords cannot be used as variable names in Python.They are reserved words that have special meaning in the language, like if, for, while, def, etc. Using them as variable names will cause an error.\n",
        "\n",
        "5. What is mutability in Python?\n",
        "   - Mutability in Python means the ability of an object to change its value after it is created. If an object is mutable, its content can be changed; if it is immutable, it cannot be changed once defined.\n",
        "\n",
        "6. Why are lists mutable, but tuples are immutable?\n",
        "   - Lists are mutable because they are meant to change we can add, remove, or update items in them. Tuples are immutable to keep the data safe and fixed, so once you create a tuple, its values cannot be changed. This helps avoid mistakes in programs.\n",
        "\n",
        "7. What is the difference between “==” and “is” operators in Python?\n",
        "   - The operator \"==\" in python is comparison operator which checks if two values are equal, while the \"is\" operator checks if two objects are the same, meaning they refer to the same memory location.In other words, \"==\" compares the contents of the objects, and \"is\" compares their identity, i.e., whether they are actually the same object in memory.\n",
        "\n",
        "8. What are logical operators in Python?\n",
        "   - Logical operators in Python are used to make decisions by combining or modifying conditions. The main logical operators are and, or, and not. They help check if one or more conditions are true or false in a program.\n",
        "\n",
        "9. What is type casting in Python?\n",
        "   - Type casting in Python means changing the data type of a value from one type to another. For example, you can convert a number to a string or a string to an integer using built-in functions like int(), float(), or str().\n",
        "\n",
        "10. What is the difference between implicit and explicit type casting?\n",
        "    - Implicit type casting happens automatically when Python converts one data type to another during an operation, without the programmer doing anything. Explicit type casting is when the programmer manually changes the data type using functions like int(), float(), or str().\n",
        "\n",
        "11. What is the purpose of conditional statements in Python?\n",
        "    - The purpose of conditional statements in Python is to make decisions in a program. They allow the code to run certain blocks only when specific conditions are true, using keywords like if, elif, and else. This helps the program behave differently based on different inputs or situations.\n",
        "\n",
        "12. How does the elif statement work?\n",
        "    - The elif statement in Python is used to check multiple conditions after an if statement. If the if condition is false, Python checks the elif condition. If it’s true, the corresponding block of code runs. We can have multiple elif statements, and only the first one that is true will be executed.\n",
        "\n",
        "13. What is the difference between for and while loops?\n",
        "    - A for loop is used when we know how many times we want to repeat something, like going through a list. A while loop is used when we want to keep repeating something as long as a condition is true, and we don’t always know how many times it will run.\n",
        "\n",
        "14. Describe a scenario where a while loop is more suitable than a for loop?\n",
        "    - A while loop is more suitable when we don’t know how many times the loop should run. For example, if we are asking a user to enter a password until it is correct, we don’t know how many tries they will need. So, we use a while loop to keep asking until the right password is entered.\n",
        "\n",
        "\n",
        "\n",
        "\n",
        "\n",
        "\n"
      ],
      "metadata": {
        "id": "X8WeIwvHRQmU"
      }
    },
    {
      "cell_type": "code",
      "execution_count": null,
      "metadata": {
        "colab": {
          "base_uri": "https://localhost:8080/"
        },
        "id": "RTDZB8HdQBut",
        "outputId": "25c3aa27-a9b8-439c-e6ee-7139c0648230"
      },
      "outputs": [
        {
          "output_type": "stream",
          "name": "stdout",
          "text": [
            "Hello, World!\n"
          ]
        }
      ],
      "source": [
        "# 1. Write a Python program to print \"Hello, World!\"\n",
        "print(\"Hello, World!\")"
      ]
    },
    {
      "cell_type": "code",
      "source": [
        "# 2. Write a Python program that displays your name and age.\n",
        "name = \"Anuruddh Singh\"\n",
        "age = 23\n",
        "print(\"My name is:\", name)\n",
        "print(\"My age is:\", age)"
      ],
      "metadata": {
        "colab": {
          "base_uri": "https://localhost:8080/"
        },
        "id": "YV2v_CW5q1Gf",
        "outputId": "62affc44-eea5-49b3-ab0f-0ee96f539cde"
      },
      "execution_count": null,
      "outputs": [
        {
          "output_type": "stream",
          "name": "stdout",
          "text": [
            "My name is: Anuruddh Singh\n",
            "My age is: 23\n"
          ]
        }
      ]
    },
    {
      "cell_type": "code",
      "source": [
        "# 3. Write code to print all the pre-defined keywords in Python using the keyword library.\n",
        "help('keywords')"
      ],
      "metadata": {
        "colab": {
          "base_uri": "https://localhost:8080/"
        },
        "id": "kBbUMQXesrQ-",
        "outputId": "9607f93d-6453-4c1f-d480-50bc4738bd2a"
      },
      "execution_count": null,
      "outputs": [
        {
          "output_type": "stream",
          "name": "stdout",
          "text": [
            "\n",
            "Here is a list of the Python keywords.  Enter any keyword to get more help.\n",
            "\n",
            "False               class               from                or\n",
            "None                continue            global              pass\n",
            "True                def                 if                  raise\n",
            "and                 del                 import              return\n",
            "as                  elif                in                  try\n",
            "assert              else                is                  while\n",
            "async               except              lambda              with\n",
            "await               finally             nonlocal            yield\n",
            "break               for                 not                 \n",
            "\n"
          ]
        }
      ]
    },
    {
      "cell_type": "code",
      "source": [
        "# 4. Write a program that checks if a given word is a Python keyword.\n",
        "import keyword\n",
        "name = input(\"Enter your word: \")\n",
        "\n",
        "if name in keyword.kwlist:\n",
        "  print(f'{name} is an keyword')\n",
        "else:\n",
        "  print(f\"{name} is not an keyword\")\n"
      ],
      "metadata": {
        "id": "PRiT2EaotVYx",
        "colab": {
          "base_uri": "https://localhost:8080/"
        },
        "outputId": "335b59c3-816f-4997-a6a5-7499e31e7ac8"
      },
      "execution_count": null,
      "outputs": [
        {
          "output_type": "stream",
          "name": "stdout",
          "text": [
            "Enter your word: else\n",
            "else is an keyword\n"
          ]
        }
      ]
    },
    {
      "cell_type": "code",
      "source": [
        "# 5. Create a list and tuple in Python, and demonstrate how attempting to change an element works differently for each.\n",
        "lst = [1,2,3,4,5] #list\n",
        "tup = (1,2,3) # Tuple\n",
        "print(\"original list \", lst)\n",
        "lst[1] = 100 # Changing the number of list at postion 1.\n",
        "print(\"modified list\",lst)\n",
        "\n",
        "print(\"Original tuple:\", tup)\n",
        "tup[1] = 200\n",
        "print(\"modified tuple\", tup)\n"
      ],
      "metadata": {
        "id": "Gb8Z6ItKatdn",
        "colab": {
          "base_uri": "https://localhost:8080/",
          "height": 245
        },
        "outputId": "1cc524ba-52d4-4589-a363-a75d24e1f95f"
      },
      "execution_count": null,
      "outputs": [
        {
          "output_type": "stream",
          "name": "stdout",
          "text": [
            "original list  [1, 2, 3, 4, 5]\n",
            "modified list [1, 100, 3, 4, 5]\n",
            "Original tuple: (1, 2, 3)\n"
          ]
        },
        {
          "output_type": "error",
          "ename": "TypeError",
          "evalue": "'tuple' object does not support item assignment",
          "traceback": [
            "\u001b[0;31m---------------------------------------------------------------------------\u001b[0m",
            "\u001b[0;31mTypeError\u001b[0m                                 Traceback (most recent call last)",
            "\u001b[0;32m<ipython-input-18-e18bff1afbd6>\u001b[0m in \u001b[0;36m<cell line: 0>\u001b[0;34m()\u001b[0m\n\u001b[1;32m      7\u001b[0m \u001b[0;34m\u001b[0m\u001b[0m\n\u001b[1;32m      8\u001b[0m \u001b[0mprint\u001b[0m\u001b[0;34m(\u001b[0m\u001b[0;34m\"Original tuple:\"\u001b[0m\u001b[0;34m,\u001b[0m \u001b[0mtup\u001b[0m\u001b[0;34m)\u001b[0m\u001b[0;34m\u001b[0m\u001b[0;34m\u001b[0m\u001b[0m\n\u001b[0;32m----> 9\u001b[0;31m \u001b[0mtup\u001b[0m\u001b[0;34m[\u001b[0m\u001b[0;36m1\u001b[0m\u001b[0;34m]\u001b[0m \u001b[0;34m=\u001b[0m \u001b[0;36m200\u001b[0m\u001b[0;34m\u001b[0m\u001b[0;34m\u001b[0m\u001b[0m\n\u001b[0m\u001b[1;32m     10\u001b[0m \u001b[0mprint\u001b[0m\u001b[0;34m(\u001b[0m\u001b[0;34m\"modified tuple\"\u001b[0m\u001b[0;34m,\u001b[0m \u001b[0mtup\u001b[0m\u001b[0;34m)\u001b[0m\u001b[0;34m\u001b[0m\u001b[0;34m\u001b[0m\u001b[0m\n",
            "\u001b[0;31mTypeError\u001b[0m: 'tuple' object does not support item assignment"
          ]
        }
      ]
    },
    {
      "cell_type": "code",
      "source": [
        "#6. Write a function to demonstrate the behavior of mutable and immutable arguments.\n",
        "def modify_var(mutable_var, immutable_var):\n",
        "  print('Inside the function')\n",
        "  print(\"mutable before modification:\", mutable_var)\n",
        "  print(\"immutable before modification:\", immutable_var)\n",
        "\n",
        "  #modify variable\n",
        "  immutable_var += 30\n",
        "  mutable_var.append(25)\n",
        "  print('Modified immutable_var inside the function', immutable_var)\n",
        "  print(\"Modified mutable_var inside the function\", mutable_var)\n",
        "\n",
        "var_1 = 35\n",
        "var_2 = [1,4,9]\n",
        "modify_var(var_2, var_1)\n",
        "print(\"after function call\")\n",
        "print(\"Immutable var:\", var_1) #Unchanged\n",
        "print(\"mutable_var:\", var_2)   # Changed\n",
        "\n"
      ],
      "metadata": {
        "colab": {
          "base_uri": "https://localhost:8080/"
        },
        "id": "TLPqGRPqgdHz",
        "outputId": "95e0533a-98d8-4cdb-aa3a-ab1d40aa5c45"
      },
      "execution_count": null,
      "outputs": [
        {
          "output_type": "stream",
          "name": "stdout",
          "text": [
            "Inside the function\n",
            "mutable before modification: [1, 4, 9]\n",
            "immutable before modification: 35\n",
            "Modified immutable_var inside the function 65\n",
            "Modified mutable_var inside the function [1, 4, 9, 25]\n",
            "after function call\n",
            "Immutable var: 35\n",
            "mutable_var: [1, 4, 9, 25]\n"
          ]
        }
      ]
    },
    {
      "cell_type": "code",
      "source": [
        "# 7. Write a program that performs basic arithmetic operations on two user-input numbers.\n",
        "# Get input from the user\n",
        "num1 = int(input(\"Enter first number: \"))\n",
        "num2 = int(input(\"Enter second number: \"))\n",
        "# Perform airthmatic operations\n",
        "print(f'{num1} + {num2} = {num1 + num2}') # gives addition of num1 and num2\n",
        "print(f'{num1} - {num2} = {num1-num2}')\n",
        "print(f'{num1} * {num2} = {num1 * num2}') # gives multiplication of num1 and num2\n",
        "if num2 !=0:\n",
        "  print(f'{num1}/{num2} = {num1/num2}') # Division of the numbers.\n",
        "  print(f'{num1} % {num2} = {num1 % num2}') # Modulus operator.\n",
        "else:\n",
        "  print(\"Division and modulo by zero are not possible\")\n",
        "print(f'')\n"
      ],
      "metadata": {
        "colab": {
          "base_uri": "https://localhost:8080/"
        },
        "id": "05uZTuRN2Qro",
        "outputId": "642bc83a-5404-4fa8-ab7a-4e872b0b7942"
      },
      "execution_count": null,
      "outputs": [
        {
          "output_type": "stream",
          "name": "stdout",
          "text": [
            "Enter first number: 20\n",
            "Enter second number: 10\n",
            "20 + 10 = 30\n",
            "20 - 10 = 10\n",
            "20 * 10 = 200\n",
            "20/10 = 2.0\n",
            "20 % 10 = 0\n",
            "\n"
          ]
        }
      ]
    },
    {
      "cell_type": "code",
      "source": [
        "# 8.Write a program to demonstrate the use of logical operators.\n",
        "a = float(input(\"Enter first number: \"))\n",
        "b = float(input(\"Enter second number: \"))\n",
        "if a>0 and b> 0: # and operator.\n",
        "  print(\"Both numbers are positive\")\n",
        "elif a>0 or b > 0:  #or operator.\n",
        "  -print(\"Atleast one of them is positive\")\n",
        "else:\n",
        "  print(\"Both numbers are negative\")\n",
        "\n",
        "print(f'not(a>b) is {not(a>b)}') #not operator.\n"
      ],
      "metadata": {
        "colab": {
          "base_uri": "https://localhost:8080/"
        },
        "id": "RYvNafKi5UjP",
        "outputId": "868d686f-055e-4d08-983e-8c1e17768496"
      },
      "execution_count": null,
      "outputs": [
        {
          "output_type": "stream",
          "name": "stdout",
          "text": [
            "Enter first number: 3\n",
            "Enter second number: 5\n",
            "Both numbers are positive\n",
            "not(a>b) is True\n"
          ]
        }
      ]
    },
    {
      "cell_type": "code",
      "source": [
        "#9. Write a Python program to convert user input from string to integer, float, and boolean types.\n",
        "a = input(\"Enter the number:\") # Take input from user\n",
        "print(f'{a} is of {type(a)}') # Datatype of a\n",
        "b = int(a) # convert to the integer.\n",
        "print(f'{b} is of {type(b)}')\n",
        "c = float(a) #convert to float.\n",
        "print(f'{c} is of {type(c)}')\n",
        "d = bool(a) # convert to bool.\n",
        "print(f'{d} is of {type(d)}')"
      ],
      "metadata": {
        "id": "we9oOoNBB6eB",
        "colab": {
          "base_uri": "https://localhost:8080/"
        },
        "outputId": "4b36a6fb-1f81-4139-912f-7a9c35939246"
      },
      "execution_count": null,
      "outputs": [
        {
          "output_type": "stream",
          "name": "stdout",
          "text": [
            "Enter the number:4\n",
            "4 is of <class 'str'>\n",
            "4 is of <class 'int'>\n",
            "4.0 is of <class 'float'>\n",
            "True is of <class 'bool'>\n"
          ]
        }
      ]
    },
    {
      "cell_type": "code",
      "source": [
        "#10.Write code to demonstrate type casting with list elements.\n",
        "# Original list of strings\n",
        "str_list = [\"10\", \"20\", \"30\", \"0\", \"\"]\n",
        "\n",
        "print(\"Original list:\", str_list)\n",
        "\n",
        "# Convert to integers\n",
        "try:\n",
        "    int_list = [int(item) for item in str_list if item != \"\"]\n",
        "    print(\"List converted to integers:\", int_list)\n",
        "except ValueError as e:\n",
        "    print(\"Error converting to int:\", e)\n",
        "\n",
        "# Convert to floats\n",
        "try:\n",
        "    float_list = [float(item) for item in str_list if item != \"\"]\n",
        "    print(\"List converted to floats:\", float_list)\n",
        "except ValueError as e:\n",
        "    print(\"Error converting to float:\", e)\n",
        "\n",
        "# Convert to booleans\n",
        "bool_list = [bool(item) for item in str_list]\n",
        "print(\"List converted to booleans:\", bool_list)\n"
      ],
      "metadata": {
        "colab": {
          "base_uri": "https://localhost:8080/"
        },
        "id": "oTurc72ajDjS",
        "outputId": "5ec2bf28-0b77-4ef6-9808-75cc32764c63"
      },
      "execution_count": null,
      "outputs": [
        {
          "output_type": "stream",
          "name": "stdout",
          "text": [
            "Original list: ['10', '20', '30', '0', '']\n",
            "List converted to integers: [10, 20, 30, 0]\n",
            "List converted to floats: [10.0, 20.0, 30.0, 0.0]\n",
            "List converted to booleans: [True, True, True, True, False]\n"
          ]
        }
      ]
    },
    {
      "cell_type": "code",
      "source": [
        "#11. Write a program that checks if a number is positive, negative, or zero.\n",
        "a = float(input(\"Enter the number\"))\n",
        "if a>0:\n",
        "  print(f'{a} is positive number')\n",
        "elif a < 0:\n",
        "  print(f'{a} is negative number')\n",
        "else:\n",
        "  print('Number is zero')"
      ],
      "metadata": {
        "colab": {
          "base_uri": "https://localhost:8080/"
        },
        "id": "dUaI6gLjlcUX",
        "outputId": "78710e0f-2daf-4cff-ac23-0bb283827b98"
      },
      "execution_count": null,
      "outputs": [
        {
          "output_type": "stream",
          "name": "stdout",
          "text": [
            "Enter the number-5\n",
            "-5.0 is negative\n"
          ]
        }
      ]
    },
    {
      "cell_type": "code",
      "source": [
        "#12. Write a for loop to print numbers from 1 to 10.\n",
        "for i in range(1,11):\n",
        "  print(i)"
      ],
      "metadata": {
        "colab": {
          "base_uri": "https://localhost:8080/"
        },
        "id": "vFsVt01zllQw",
        "outputId": "378d875e-fdad-4d8c-c0a6-a44721fb258c"
      },
      "execution_count": null,
      "outputs": [
        {
          "output_type": "stream",
          "name": "stdout",
          "text": [
            "1\n",
            "2\n",
            "3\n",
            "4\n",
            "5\n",
            "6\n",
            "7\n",
            "8\n",
            "9\n",
            "10\n"
          ]
        }
      ]
    },
    {
      "cell_type": "code",
      "source": [
        "#13. Write a Python program to find the sum of all even numbers between 1 and 50.\n",
        "sum = 0\n",
        "for i in range(1,51):\n",
        "\n",
        "  if i % 2 == 0:\n",
        "    sum = sum + i\n",
        "  else:\n",
        "    continue\n",
        "\n",
        "print(f\"The sum of all the even numbers between 1 and 50 is: {sum}\")\n"
      ],
      "metadata": {
        "colab": {
          "base_uri": "https://localhost:8080/"
        },
        "id": "90GxcVqHmyyB",
        "outputId": "8e39a1d2-24f6-4e4a-d955-1fb07bc8564c"
      },
      "execution_count": null,
      "outputs": [
        {
          "output_type": "stream",
          "name": "stdout",
          "text": [
            "The sum of all the even numbers between 1 and 50 is: 650\n"
          ]
        }
      ]
    },
    {
      "cell_type": "code",
      "source": [
        "# 14. Write a program to reverse a string using a while loop.\n",
        "name= \"Anuruddh\"\n",
        "reversestr= \" \"\n",
        "i = len(name)-1\n",
        "while i>=0:\n",
        "  reversestr += name[i]\n",
        "  i = i -1\n",
        "print(reversestr)\n"
      ],
      "metadata": {
        "id": "8R1o5veanfqe",
        "colab": {
          "base_uri": "https://localhost:8080/"
        },
        "outputId": "501e939e-e2c0-4e0f-a514-ffaf935a579e"
      },
      "execution_count": 2,
      "outputs": [
        {
          "output_type": "stream",
          "name": "stdout",
          "text": [
            " hddurunA\n"
          ]
        }
      ]
    },
    {
      "cell_type": "code",
      "source": [
        "# 15.Write a Python program to calculate the factorial of a number provided by the user using a while loop\n",
        "num = int(input(\"Enter the number \"))\n",
        "fact = 1\n",
        "if num<0:\n",
        "  print(\"Invalid number! Enter a positive number\")\n",
        "else:\n",
        "  for i in range(1,num+1):\n",
        "    fact = fact * i\n",
        "  print(f'factorial of the number {num}! = {fact}')\n"
      ],
      "metadata": {
        "id": "RTM4fSqIpj_F",
        "colab": {
          "base_uri": "https://localhost:8080/"
        },
        "outputId": "0c0416f6-078a-40a8-a13c-74c3590c52f5"
      },
      "execution_count": 8,
      "outputs": [
        {
          "output_type": "stream",
          "name": "stdout",
          "text": [
            "Enter the number 5\n",
            "factorial of the number 5! = 120\n"
          ]
        }
      ]
    },
    {
      "cell_type": "code",
      "source": [],
      "metadata": {
        "id": "ufXp-gRYrqTd"
      },
      "execution_count": null,
      "outputs": []
    }
  ]
}